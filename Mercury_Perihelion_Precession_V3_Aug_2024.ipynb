{
 "cells": [
  {
   "cell_type": "markdown",
   "metadata": {
    "id": "Rc7F1fnUOHWL"
   },
   "source": [
    "## Title: Python Codes for Finding the Mercury Perihelion Precession\n",
    "\n",
    "\n",
    "**Code Developers: Jayashree Kundu, Tamal Sarkar, and Rakesh Kumar Mandal, University of North Bengal**\n",
    "\n",
    "Reference: Nonrelativistic contribution to Mercury’s perihelion precession (1978) by Michael P. Price; William F. Rush\n",
    "\n",
    "Publication: https://www.iipseries.org/viewpaper.php?pid=4055&pt=studying-the-planetary-motion-using-python by Jayashree Kundu, Tamal Sarkar and Rakesh Kumar Mandal , University of North Bengal\n",
    "\n",
    "\n",
    "How to run the code?\n",
    "\n",
    "Steps:\n",
    "\n",
    "Step 1:  This is optional if you use (Google Colab) Connect the Google engine and upload the Data File (Planetary_Data.xlsx and Dwarf_Data.xlsx, where Data is stored).\n",
    "\n",
    "Step2:   Importing required libraries.\n",
    "\n",
    "Step 3:  Create a folder to save our results (Excel sheet, Figures in JPG format, and Results in Text format).\n",
    "\n",
    "Step 4:  Calculation of mass of the Sun using Dwarf Planet's Data.\n",
    "\n",
    "Step 5:  Graphical Representation of the Tabular Data in Step 4 for each Dwarf planet\n",
    "\n",
    "Step 6:  Calculation of the Perturbing Forces and Non-Relativistic Precession due to the Other Planets.\n",
    "\n",
    "Step 7:  Calculation of the Relativistic Precession(GR Effects)\n",
    "\n",
    "Step 8:  Visualization of derived results.\n",
    "\n",
    "Step 9:  Lastly, we are creating one Text file(for Writing the results of Sun's Mass ,Non-Relativistic Precession due to the Other Planets and the Relativistic Precession(i.e.,GR Effects)),one Excel file(containing planetary details and the force precession) under the previously created folder **Mercury_precession_results** in the file section.\n",
    "\n",
    "\n",
    "**N.B.** Please press **Refresh** button, in case, if the resulting outputs are not showing in the **Files** section.\n",
    "\n"
   ]
  },
  {
   "cell_type": "markdown",
   "metadata": {},
   "source": [
    "# **For using Google Colab(Optional)** #"
   ]
  },
  {
   "cell_type": "code",
   "execution_count": 19,
   "metadata": {
    "colab": {
     "base_uri": "https://localhost:8080/",
     "height": 107
    },
    "id": "y6hHzYpBFxLN",
    "outputId": "5ac6e7ef-c892-4611-de02-36b26402505f"
   },
   "outputs": [],
   "source": [
    "#from google.colab import files\n",
    "#uploaded=files.upload()\n",
    "#Note: Upload the two files 'Dwarf_Data.xlsx' and 'Planetary_Data.xlsx'"
   ]
  },
  {
   "cell_type": "markdown",
   "metadata": {
    "id": "ogE46w3LiV8P"
   },
   "source": [
    "# **Importing the required libraries**"
   ]
  },
  {
   "cell_type": "code",
   "execution_count": 1,
   "metadata": {
    "id": "7RdTESQsOrRy"
   },
   "outputs": [],
   "source": [
    "import os\n",
    "import pandas as pd\n",
    "import numpy as np\n",
    "from matplotlib import pyplot as plt\n",
    "from astropy.constants import G as G\n",
    "from astropy.constants import c as c"
   ]
  },
  {
   "cell_type": "markdown",
   "metadata": {
    "id": "K4RLUeUSKUJQ"
   },
   "source": [
    "# **Creating a folder to save the visualizations(i.e., outputs)**"
   ]
  },
  {
   "cell_type": "code",
   "execution_count": 2,
   "metadata": {
    "id": "mdRdmgtHFlrq"
   },
   "outputs": [],
   "source": [
    "folder_name = 'Mercury_precession_results'             # directory name\n",
    "os.makedirs(folder_name, exist_ok=True)        # Create directory if not exisiting\n",
    "base_dir = f'{folder_name}/'          # Store the path of this directory as base_dir to use it further"
   ]
  },
  {
   "cell_type": "markdown",
   "metadata": {
    "id": "ihTk5bFvPSz1"
   },
   "source": [
    "# **Calculating the Mass of the Sun from Dwarf's Data**"
   ]
  },
  {
   "cell_type": "code",
   "execution_count": 47,
   "metadata": {
    "colab": {
     "base_uri": "https://localhost:8080/",
     "height": 681
    },
    "id": "qefPA2tZPjQ2",
    "outputId": "489290c4-95a0-492c-eb22-4d074430c898"
   },
   "outputs": [
    {
     "data": {
      "text/html": [
       "<div>\n",
       "<style scoped>\n",
       "    .dataframe tbody tr th:only-of-type {\n",
       "        vertical-align: middle;\n",
       "    }\n",
       "\n",
       "    .dataframe tbody tr th {\n",
       "        vertical-align: top;\n",
       "    }\n",
       "\n",
       "    .dataframe thead th {\n",
       "        text-align: right;\n",
       "    }\n",
       "</style>\n",
       "<table border=\"1\" class=\"dataframe\">\n",
       "  <thead>\n",
       "    <tr style=\"text-align: right;\">\n",
       "      <th></th>\n",
       "      <th>Sl_no.</th>\n",
       "      <th>Dwarf_name</th>\n",
       "      <th>Mean_distance(from Sun)(in AU)</th>\n",
       "      <th>Orbital_period(in Earth years)</th>\n",
       "    </tr>\n",
       "  </thead>\n",
       "  <tbody>\n",
       "    <tr>\n",
       "      <th>0</th>\n",
       "      <td>1</td>\n",
       "      <td>Ceres</td>\n",
       "      <td>2.770</td>\n",
       "      <td>4.600</td>\n",
       "    </tr>\n",
       "    <tr>\n",
       "      <th>1</th>\n",
       "      <td>2</td>\n",
       "      <td>Orcus</td>\n",
       "      <td>39.174</td>\n",
       "      <td>245.194</td>\n",
       "    </tr>\n",
       "    <tr>\n",
       "      <th>2</th>\n",
       "      <td>3</td>\n",
       "      <td>Pluto</td>\n",
       "      <td>39.482</td>\n",
       "      <td>247.940</td>\n",
       "    </tr>\n",
       "    <tr>\n",
       "      <th>3</th>\n",
       "      <td>4</td>\n",
       "      <td>Haumea</td>\n",
       "      <td>43.116</td>\n",
       "      <td>283.120</td>\n",
       "    </tr>\n",
       "    <tr>\n",
       "      <th>4</th>\n",
       "      <td>5</td>\n",
       "      <td>Quaoar</td>\n",
       "      <td>43.694</td>\n",
       "      <td>288.830</td>\n",
       "    </tr>\n",
       "    <tr>\n",
       "      <th>5</th>\n",
       "      <td>6</td>\n",
       "      <td>Makemake</td>\n",
       "      <td>45.430</td>\n",
       "      <td>306.210</td>\n",
       "    </tr>\n",
       "    <tr>\n",
       "      <th>6</th>\n",
       "      <td>7</td>\n",
       "      <td>Gonggong</td>\n",
       "      <td>67.483</td>\n",
       "      <td>554.370</td>\n",
       "    </tr>\n",
       "    <tr>\n",
       "      <th>7</th>\n",
       "      <td>8</td>\n",
       "      <td>Eris</td>\n",
       "      <td>67.864</td>\n",
       "      <td>559.070</td>\n",
       "    </tr>\n",
       "    <tr>\n",
       "      <th>8</th>\n",
       "      <td>9</td>\n",
       "      <td>Sedna</td>\n",
       "      <td>506.000</td>\n",
       "      <td>11390.000</td>\n",
       "    </tr>\n",
       "  </tbody>\n",
       "</table>\n",
       "</div>"
      ],
      "text/plain": [
       "   Sl_no. Dwarf_name  Mean_distance(from Sun)(in AU)  \\\n",
       "0       1      Ceres                           2.770   \n",
       "1       2      Orcus                          39.174   \n",
       "2       3      Pluto                          39.482   \n",
       "3       4     Haumea                          43.116   \n",
       "4       5     Quaoar                          43.694   \n",
       "5       6   Makemake                          45.430   \n",
       "6       7   Gonggong                          67.483   \n",
       "7       8       Eris                          67.864   \n",
       "8       9      Sedna                         506.000   \n",
       "\n",
       "   Orbital_period(in Earth years)  \n",
       "0                           4.600  \n",
       "1                         245.194  \n",
       "2                         247.940  \n",
       "3                         283.120  \n",
       "4                         288.830  \n",
       "5                         306.210  \n",
       "6                         554.370  \n",
       "7                         559.070  \n",
       "8                       11390.000  "
      ]
     },
     "metadata": {},
     "output_type": "display_data"
    },
    {
     "name": "stdout",
     "output_type": "stream",
     "text": [
      "\n",
      "The Mass of Sun(calculated) is 1.9912e+30 Kg\n"
     ]
    }
   ],
   "source": [
    "df1=pd.read_excel('Dwarf_Data.xlsx')\n",
    "\n",
    "display(df1)   #Source Data\n",
    "\n",
    "#Creating Numpy array of Orbital radius from Dataframe.\n",
    "a_o_r_dwarf=np.array(df1['Mean_distance(from Sun)(in AU)'])\n",
    "\n",
    "#Creating Numpy array of Time period from Dataframe.\n",
    "a_t_p_dwarf=np.array(df1['Orbital_period(in Earth years)'])\n",
    "length_d=len(a_o_r_dwarf)\n",
    "Sun_mass_list_dwarf=list()\n",
    "\n",
    "for i in range(length_d):\n",
    "    Sun_mass_dwarf=(4*(np.pi**2)*((a_o_r_dwarf[i]*149.6*(10**9))**3))/(G.value*((a_t_p_dwarf[i]*365*24*60*60)**2))\n",
    "    Sun_mass_list_dwarf.append(Sun_mass_dwarf)\n",
    "df1['Sun_mass']=Sun_mass_list_dwarf # Modifiing Dwarf's data.\n",
    "Median_Sun_mass=np.median(Sun_mass_list_dwarf)\n",
    "print(f\"\\nThe Mass of Sun(calculated) is {Median_Sun_mass:.4e} Kg\")"
   ]
  },
  {
   "cell_type": "markdown",
   "metadata": {
    "id": "1ShF3XpHUc0K"
   },
   "source": [
    "# **Graphical representation of Tabular Data.** #"
   ]
  },
  {
   "cell_type": "code",
   "execution_count": 48,
   "metadata": {
    "colab": {
     "base_uri": "https://localhost:8080/",
     "height": 496
    },
    "id": "YGHkXKxkLquK",
    "outputId": "481c80dd-af9d-4367-fae6-31fa3d093d05"
   },
   "outputs": [
    {
     "data": {
      "image/png": "[encoded data removed]",
      "text/plain": [
       "<Figure size 600x400 with 1 Axes>"
      ]
     },
     "metadata": {},
     "output_type": "display_data"
    }
   ],
   "source": [
    "plt.figure(figsize=(6,4))\n",
    "plt.style.use('default')\n",
    "plt.title(' Mass of Sun for Dwarf planets \\n\\n', color='royalblue',fontsize=15,weight='bold')\n",
    "plt.xlabel(\"\\nName Of Dwarf Planets\",color='purple', fontsize=11,weight='bold')\n",
    "plt.ylabel(\"Sun's mass (M\\u2080)\",color='purple', fontsize=11,weight='bold')\n",
    "plt.scatter(df1.Dwarf_name,Sun_mass_list_dwarf)\n",
    "plt.xticks(rotation=15)\n",
    "plt.ylim([0.0,5e30])\n",
    "plt.savefig(base_dir+'SunMass.jpg')\n",
    "plt.show()"
   ]
  },
  {
   "cell_type": "markdown",
   "metadata": {
    "id": "o0YVxhmsUsSL"
   },
   "source": [
    "# **Calculating the perturbing forces on Mercury** #"
   ]
  },
  {
   "cell_type": "code",
   "execution_count": 49,
   "metadata": {
    "colab": {
     "base_uri": "https://localhost:8080/",
     "height": 601
    },
    "id": "UiE4dnreMVS7",
    "outputId": "139b01c6-96cc-481d-d1df-84013c3167c1"
   },
   "outputs": [
    {
     "data": {
      "text/html": [
       "<div>\n",
       "<style scoped>\n",
       "    .dataframe tbody tr th:only-of-type {\n",
       "        vertical-align: middle;\n",
       "    }\n",
       "\n",
       "    .dataframe tbody tr th {\n",
       "        vertical-align: top;\n",
       "    }\n",
       "\n",
       "    .dataframe thead th {\n",
       "        text-align: right;\n",
       "    }\n",
       "</style>\n",
       "<table border=\"1\" class=\"dataframe\">\n",
       "  <thead>\n",
       "    <tr style=\"text-align: right;\">\n",
       "      <th></th>\n",
       "      <th>Sl_no.</th>\n",
       "      <th>Planet_name</th>\n",
       "      <th>Planet_mass(in 10^24 Kg)</th>\n",
       "      <th>Orbital_radius(in 10^6 Km)</th>\n",
       "      <th>Time_period(in Earth days)</th>\n",
       "    </tr>\n",
       "  </thead>\n",
       "  <tbody>\n",
       "    <tr>\n",
       "      <th>0</th>\n",
       "      <td>1</td>\n",
       "      <td>Mercury</td>\n",
       "      <td>0.33011</td>\n",
       "      <td>57.9</td>\n",
       "      <td>87.969</td>\n",
       "    </tr>\n",
       "    <tr>\n",
       "      <th>1</th>\n",
       "      <td>2</td>\n",
       "      <td>Venus</td>\n",
       "      <td>4.86750</td>\n",
       "      <td>108.2</td>\n",
       "      <td>224.701</td>\n",
       "    </tr>\n",
       "    <tr>\n",
       "      <th>2</th>\n",
       "      <td>3</td>\n",
       "      <td>Earth</td>\n",
       "      <td>5.97000</td>\n",
       "      <td>149.6</td>\n",
       "      <td>365.240</td>\n",
       "    </tr>\n",
       "    <tr>\n",
       "      <th>3</th>\n",
       "      <td>4</td>\n",
       "      <td>Mars</td>\n",
       "      <td>0.64171</td>\n",
       "      <td>228.0</td>\n",
       "      <td>686.565</td>\n",
       "    </tr>\n",
       "    <tr>\n",
       "      <th>4</th>\n",
       "      <td>5</td>\n",
       "      <td>Jupiter</td>\n",
       "      <td>1898.19000</td>\n",
       "      <td>778.5</td>\n",
       "      <td>4328.900</td>\n",
       "    </tr>\n",
       "    <tr>\n",
       "      <th>5</th>\n",
       "      <td>6</td>\n",
       "      <td>Saturn</td>\n",
       "      <td>568.34000</td>\n",
       "      <td>1432.0</td>\n",
       "      <td>10752.900</td>\n",
       "    </tr>\n",
       "    <tr>\n",
       "      <th>6</th>\n",
       "      <td>7</td>\n",
       "      <td>Uranus</td>\n",
       "      <td>86.81300</td>\n",
       "      <td>2867.0</td>\n",
       "      <td>30667.300</td>\n",
       "    </tr>\n",
       "    <tr>\n",
       "      <th>7</th>\n",
       "      <td>8</td>\n",
       "      <td>Neptune</td>\n",
       "      <td>102.41300</td>\n",
       "      <td>4515.0</td>\n",
       "      <td>60152.000</td>\n",
       "    </tr>\n",
       "  </tbody>\n",
       "</table>\n",
       "</div>"
      ],
      "text/plain": [
       "   Sl_no. Planet_name  Planet_mass(in 10^24 Kg)  Orbital_radius(in 10^6 Km)  \\\n",
       "0       1     Mercury                   0.33011                        57.9   \n",
       "1       2       Venus                   4.86750                       108.2   \n",
       "2       3       Earth                   5.97000                       149.6   \n",
       "3       4        Mars                   0.64171                       228.0   \n",
       "4       5     Jupiter                1898.19000                       778.5   \n",
       "5       6      Saturn                 568.34000                      1432.0   \n",
       "6       7      Uranus                  86.81300                      2867.0   \n",
       "7       8     Neptune                 102.41300                      4515.0   \n",
       "\n",
       "   Time_period(in Earth days)  \n",
       "0                      87.969  \n",
       "1                     224.701  \n",
       "2                     365.240  \n",
       "3                     686.565  \n",
       "4                    4328.900  \n",
       "5                   10752.900  \n",
       "6                   30667.300  \n",
       "7                   60152.000  "
      ]
     },
     "metadata": {},
     "output_type": "display_data"
    },
    {
     "data": {
      "text/html": [
       "<div>\n",
       "<style scoped>\n",
       "    .dataframe tbody tr th:only-of-type {\n",
       "        vertical-align: middle;\n",
       "    }\n",
       "\n",
       "    .dataframe tbody tr th {\n",
       "        vertical-align: top;\n",
       "    }\n",
       "\n",
       "    .dataframe thead th {\n",
       "        text-align: right;\n",
       "    }\n",
       "</style>\n",
       "<table border=\"1\" class=\"dataframe\">\n",
       "  <thead>\n",
       "    <tr style=\"text-align: right;\">\n",
       "      <th></th>\n",
       "      <th>Sl_no.</th>\n",
       "      <th>Planet_name</th>\n",
       "      <th>Planet_mass(in 10^24 Kg)</th>\n",
       "      <th>Orbital_radius(in 10^6 Km)</th>\n",
       "      <th>Time_period(in Earth days)</th>\n",
       "      <th>Li</th>\n",
       "      <th>L*a/(R^2-a^2)</th>\n",
       "      <th>S_a</th>\n",
       "      <th>F_P(Newton)</th>\n",
       "    </tr>\n",
       "  </thead>\n",
       "  <tbody>\n",
       "    <tr>\n",
       "      <th>0</th>\n",
       "      <td>1</td>\n",
       "      <td>Mercury</td>\n",
       "      <td>0.33011</td>\n",
       "      <td>57.9</td>\n",
       "      <td>87.969</td>\n",
       "      <td>...</td>\n",
       "      <td>...</td>\n",
       "      <td>...</td>\n",
       "      <td>...</td>\n",
       "    </tr>\n",
       "    <tr>\n",
       "      <th>1</th>\n",
       "      <td>2</td>\n",
       "      <td>Venus</td>\n",
       "      <td>4.86750</td>\n",
       "      <td>108.2</td>\n",
       "      <td>224.701</td>\n",
       "      <td>7159766039739.375</td>\n",
       "      <td>49.61806</td>\n",
       "      <td>89.436962</td>\n",
       "      <td>3434425137618532.0</td>\n",
       "    </tr>\n",
       "    <tr>\n",
       "      <th>2</th>\n",
       "      <td>3</td>\n",
       "      <td>Earth</td>\n",
       "      <td>5.97000</td>\n",
       "      <td>149.6</td>\n",
       "      <td>365.240</td>\n",
       "      <td>6351303544509.458984</td>\n",
       "      <td>19.326535</td>\n",
       "      <td>26.136638</td>\n",
       "      <td>1337729403970535.75</td>\n",
       "    </tr>\n",
       "    <tr>\n",
       "      <th>3</th>\n",
       "      <td>4</td>\n",
       "      <td>Mars</td>\n",
       "      <td>0.64171</td>\n",
       "      <td>228.0</td>\n",
       "      <td>686.565</td>\n",
       "      <td>447944379524.123535</td>\n",
       "      <td>0.533315</td>\n",
       "      <td>0.606843</td>\n",
       "      <td>36914625210643.242188</td>\n",
       "    </tr>\n",
       "    <tr>\n",
       "      <th>4</th>\n",
       "      <td>5</td>\n",
       "      <td>Jupiter</td>\n",
       "      <td>1898.19000</td>\n",
       "      <td>778.5</td>\n",
       "      <td>4328.900</td>\n",
       "      <td>388062069913429.5</td>\n",
       "      <td>37.27962</td>\n",
       "      <td>37.694336</td>\n",
       "      <td>2580392402932437.0</td>\n",
       "    </tr>\n",
       "    <tr>\n",
       "      <th>5</th>\n",
       "      <td>6</td>\n",
       "      <td>Saturn</td>\n",
       "      <td>568.34000</td>\n",
       "      <td>1432.0</td>\n",
       "      <td>10752.900</td>\n",
       "      <td>63166285165396.507812</td>\n",
       "      <td>1.78644</td>\n",
       "      <td>1.792291</td>\n",
       "      <td>123652447661892.921875</td>\n",
       "    </tr>\n",
       "    <tr>\n",
       "      <th>6</th>\n",
       "      <td>7</td>\n",
       "      <td>Uranus</td>\n",
       "      <td>86.81300</td>\n",
       "      <td>2867.0</td>\n",
       "      <td>30667.300</td>\n",
       "      <td>4819224999873.286133</td>\n",
       "      <td>0.033961</td>\n",
       "      <td>0.033988</td>\n",
       "      <td>2350670848576.813477</td>\n",
       "    </tr>\n",
       "    <tr>\n",
       "      <th>7</th>\n",
       "      <td>8</td>\n",
       "      <td>Neptune</td>\n",
       "      <td>102.41300</td>\n",
       "      <td>4515.0</td>\n",
       "      <td>60152.000</td>\n",
       "      <td>3610085312706.594727</td>\n",
       "      <td>0.010255</td>\n",
       "      <td>0.010259</td>\n",
       "      <td>709849406257.464722</td>\n",
       "    </tr>\n",
       "  </tbody>\n",
       "</table>\n",
       "</div>"
      ],
      "text/plain": [
       "   Sl_no. Planet_name  Planet_mass(in 10^24 Kg)  Orbital_radius(in 10^6 Km)  \\\n",
       "0       1     Mercury                   0.33011                        57.9   \n",
       "1       2       Venus                   4.86750                       108.2   \n",
       "2       3       Earth                   5.97000                       149.6   \n",
       "3       4        Mars                   0.64171                       228.0   \n",
       "4       5     Jupiter                1898.19000                       778.5   \n",
       "5       6      Saturn                 568.34000                      1432.0   \n",
       "6       7      Uranus                  86.81300                      2867.0   \n",
       "7       8     Neptune                 102.41300                      4515.0   \n",
       "\n",
       "   Time_period(in Earth days)                     Li L*a/(R^2-a^2)        S_a  \\\n",
       "0                      87.969                    ...           ...        ...   \n",
       "1                     224.701      7159766039739.375      49.61806  89.436962   \n",
       "2                     365.240   6351303544509.458984     19.326535  26.136638   \n",
       "3                     686.565    447944379524.123535      0.533315   0.606843   \n",
       "4                    4328.900      388062069913429.5      37.27962  37.694336   \n",
       "5                   10752.900  63166285165396.507812       1.78644   1.792291   \n",
       "6                   30667.300   4819224999873.286133      0.033961   0.033988   \n",
       "7                   60152.000   3610085312706.594727      0.010255   0.010259   \n",
       "\n",
       "              F_P(Newton)  \n",
       "0                     ...  \n",
       "1      3434425137618532.0  \n",
       "2     1337729403970535.75  \n",
       "3   36914625210643.242188  \n",
       "4      2580392402932437.0  \n",
       "5  123652447661892.921875  \n",
       "6    2350670848576.813477  \n",
       "7     709849406257.464722  "
      ]
     },
     "metadata": {},
     "output_type": "display_data"
    },
    {
     "name": "stdout",
     "output_type": "stream",
     "text": [
      "Precession Rate (Newtonian)= 530.6 arcsec/century\n"
     ]
    }
   ],
   "source": [
    "    df2=pd.read_excel(\"Planetary_Data.xlsx\")\n",
    "    display(df2)\n",
    "    mass_sun=Median_Sun_mass\n",
    "    a_pl_mass=np.array(df2['Planet_mass(in 10^24 Kg)'])\n",
    "    a_o_r=np.array(df2['Orbital_radius(in 10^6 Km)'])\n",
    "    mass_mercury=a_pl_mass[0]*(10**24)\n",
    "    radius_mercury=a_o_r[0]*(10**9)\n",
    "    o_t_p_mercury=df2.loc[0,'Time_period(in Earth days)']\n",
    "    length=len(a_pl_mass)\n",
    "    force_a1_each=0\n",
    "    force_a1_list1=list()\n",
    "    force_a1_sum=0\n",
    "    force_a1_sum_derivative=0\n",
    "    force_a1=0\n",
    "    lamda_list=['...',]\n",
    "    lamda_i_a_r2_a2_list=['...',]\n",
    "    S_a_list=['...']\n",
    "    force_a1_list=['...']\n",
    "    for i in range(1,length):\n",
    "        lamda_i=(a_pl_mass[i]*(10**24))/(2*np.pi*a_o_r[i]*(10**9))\n",
    "        r2_a2=((a_o_r[i]*(10**9))**2)-(radius_mercury**2)\n",
    "        lamda_i_a_r2_a2=(lamda_i*radius_mercury)/(r2_a2)\n",
    "        force_a1_each=G.value*np.pi*mass_mercury*lamda_i_a_r2_a2 #λ_i  a/((R_i^2- a^2 ) )\n",
    "        force_a1_sum=force_a1_sum+lamda_i_a_r2_a2\n",
    "        force_a1_sum_derivative=force_a1_sum_derivative+\\\n",
    "                                (lamda_i*(((a_o_r[i]*(10**9))**2)+(radius_mercury**2)))/(r2_a2**2)\n",
    "        S_a=(lamda_i*radius_mercury*(((a_o_r[i]*(10**9))**2)+(radius_mercury**2)))/(r2_a2**2)\n",
    "        lamda_list.append(lamda_i)\n",
    "        lamda_i_a_r2_a2_list.append(lamda_i_a_r2_a2)\n",
    "        force_a1_list.append(force_a1_each)\n",
    "        force_a1_list1.append(force_a1_each)\n",
    "        S_a_list.append(S_a)\n",
    "    df2['Li']=lamda_list\n",
    "    df2['L*a/(R^2-a^2)']=lamda_i_a_r2_a2_list\n",
    "    df2['S_a']=S_a_list\n",
    "    df2['F_P(Newton)']=force_a1_list\n",
    "    display(df2)# Modified Planetary data.\n",
    "\n",
    "    force_a0= (-(G.value*mass_sun*mass_mercury)/(radius_mercury**2))\n",
    "    force_a1=G.value*np.pi*mass_mercury*force_a1_sum\n",
    "    force_a1_derivative=G.value*np.pi*mass_mercury*force_a1_sum_derivative\n",
    "    small_shift=(force_a1+((radius_mercury*force_a1_derivative)/2))/force_a0\n",
    "    apsidal_angle=np.pi*(1-small_shift)\n",
    "    Precession_Rate=((((2*apsidal_angle)-(2*np.pi))*(180/np.pi)*3600*365.24*100)/o_t_p_mercury)\n",
    "    print(f\"Precession Rate (Newtonian)= {Precession_Rate:.1f} arcsec/century\")"
   ]
  },
  {
   "cell_type": "markdown",
   "metadata": {
    "id": "cqJRR-OcUyWK"
   },
   "source": [
    "# **Calculation of Precession of Mercury(GR effect).** #"
   ]
  },
  {
   "cell_type": "code",
   "execution_count": 50,
   "metadata": {
    "colab": {
     "base_uri": "https://localhost:8080/"
    },
    "id": "7enSeFcjM3I-",
    "outputId": "1db6a857-d33d-41b3-8571-a3fd1484f0d7"
   },
   "outputs": [
    {
     "name": "stdout",
     "output_type": "stream",
     "text": [
      "\n",
      " Precession Rate (GR correction) = 42.97 arcsec/century\n"
     ]
    }
   ],
   "source": [
    "speed_light=c.value\n",
    "Ecen_mercury=0.205630\n",
    "Temp_Prece_Rate=0\n",
    "myst_Precession_Rate=0\n",
    "o_t_p_mercury=df2.loc[0,'Time_period(in Earth days)']\n",
    "Rev_per_century_mercury=(1/(o_t_p_mercury/(100*365.24)))\n",
    "Temp_Prece_Rate=(24*(np.pi**3)*(radius_mercury**2))/(((o_t_p_mercury*24*60*60)**2)*(speed_light**2)*(1-(Ecen_mercury**2)))\n",
    "myst_Precession_Rate=((Temp_Prece_Rate*Rev_per_century_mercury*180*3600)/np.pi)\n",
    "print(f\"\\n Precession Rate (GR correction) = {myst_Precession_Rate:.2f} arcsec/century\")"
   ]
  },
  {
   "cell_type": "markdown",
   "metadata": {
    "id": "uEmK0z-sVATJ"
   },
   "source": [
    "# **Visualization of the LinearMassDensity of each planet** #"
   ]
  },
  {
   "cell_type": "code",
   "execution_count": 51,
   "metadata": {
    "colab": {
     "base_uri": "https://localhost:8080/",
     "height": 504
    },
    "id": "h_7NgaDkNIK_",
    "outputId": "693b37db-0951-4a9a-84d1-a3db5cf28914"
   },
   "outputs": [
    {
     "data": {
      "image/png": "[encoded data removed]",
      "text/plain": [
       "<Figure size 500x400 with 1 Axes>"
      ]
     },
     "metadata": {},
     "output_type": "display_data"
    }
   ],
   "source": [
    "    plt.figure(figsize=(5,4))\n",
    "    plt.style.use('default')\n",
    "    plt.title(\"  Property of LinearMassDensity\\n\\n\",color='royalblue',fontsize=14,weight='bold')\n",
    "    plt.xlabel(\"\\nName Of Planets\",color='purple', fontsize=11,weight='bold')\n",
    "    plt.ylabel(\"\\u03bb -value\",color='purple', fontsize=11,weight='bold')\n",
    "    df_temp=df2.drop(index=0)  # Excluding the planet Mercury.\n",
    "    plt.plot(df_temp.Planet_name,df_temp['Li'],'o--',color='purple',ms=9)#shows that LinearMassDensity reaches at its pick value for Jupiter\n",
    "    plt.xticks(rotation=15)\n",
    "    plt.ylim([0.0,0.6*10e14])\n",
    "    x=df_temp.Planet_name\n",
    "    y=df_temp['Li']\n",
    "    l=len(df_temp.Planet_name)\n",
    "    for i in range(l):\n",
    "        value_txt=y[i+1]\n",
    "        plt.annotate(f'{value_txt/100000000000:.1f}', (x[i+1], y[i+1]), textcoords=\"offset points\", xytext=(0,10), ha='center',rotation=30,weight='bold')\n",
    "    plt.savefig(base_dir+'LinearMassDensity.jpg')\n",
    "    plt.show()"
   ]
  },
  {
   "cell_type": "markdown",
   "metadata": {},
   "source": [
    "# **Visualize the Forces of each planet acts on Mercury(Plotted using force_a1_list, i.e fetching DataFrame column as Y-axis) ** #"
   ]
  },
  {
   "cell_type": "code",
   "execution_count": 52,
   "metadata": {},
   "outputs": [
    {
     "data": {
      "image/png": "[encoded data removed]",
      "text/plain": [
       "<Figure size 500x400 with 1 Axes>"
      ]
     },
     "metadata": {},
     "output_type": "display_data"
    }
   ],
   "source": [
    "plt.figure(figsize=(5,4))\n",
    "plt.style.use('default')\n",
    "plt.title(\" Forces acts on Mercury by all other planets\\n\\n\",color='royalblue',fontsize=14,weight='bold')\n",
    "plt.xlabel(\"\\nName Of Planets\",color='green', fontsize=11,weight='bold')\n",
    "plt.ylabel(\"Forces on Mercury (F\\u2081)\",color='green', fontsize=11,weight='bold')\n",
    "df_temp=df2.drop(index=0)   # Excluding the planet Mercury.\n",
    "plt.plot(df_temp.Planet_name,df_temp['F_P(Newton)'],'o--',color='purple',ms=9)#shows that LinearMassDensity reaches at its pick value \n",
    "#plt.scatter(df_temp['Planet_name'], force_a1_list1, color='purple')\n",
    "plt.xticks(rotation=15)\n",
    "plt.ylim([0.0,10e15])\n",
    "x=df_temp.Planet_name\n",
    "y=df_temp['F_P(Newton)']\n",
    "l=len(df_temp.Planet_name)\n",
    "for i in range(l):\n",
    "    value_txt=y[i+1]\n",
    "    plt.annotate(f'{value_txt/100000000000:.1f}', (x[i+1], y[i+1]), textcoords=\"offset points\", xytext=(0,10), ha='left',rotation=30,weight='bold')\n",
    "plt.savefig(base_dir+'PurterbingForce_a.jpg')\n",
    "plt.show()"
   ]
  },
  {
   "cell_type": "markdown",
   "metadata": {
    "id": "WL-XkYDXVJEi"
   },
   "source": [
    "# **Visualize the Forces of each planet acts on Mercury** (Plotted using force_a1_list1 i.e taking 'list' as Y-axis and 'scatter' plot)#"
   ]
  },
  {
   "cell_type": "code",
   "execution_count": 53,
   "metadata": {
    "colab": {
     "base_uri": "https://localhost:8080/",
     "height": 504
    },
    "id": "7E8YGlwPNadP",
    "outputId": "752a4dcc-263e-4506-ea2a-b183bf84a6d8"
   },
   "outputs": [
    {
     "data": {
      "image/png": "[encoded data removed]",
      "text/plain": [
       "<Figure size 500x400 with 1 Axes>"
      ]
     },
     "metadata": {},
     "output_type": "display_data"
    }
   ],
   "source": [
    "plt.figure(figsize=(5,4))\n",
    "plt.style.use('default')\n",
    "plt.title(\" Forces acts on Mercury by all other planets\\n\\n\",color='royalblue',fontsize=14,weight='bold')\n",
    "plt.xlabel(\"\\nName Of Planets\",color='green', fontsize=11,weight='bold')\n",
    "plt.ylabel(\"Forces on Mercury (F\\u2081)\",color='green', fontsize=11,weight='bold')\n",
    "df_temp=df2.drop(index=0)   # Excluding the planet Mercury.\n",
    "plt.scatter(df_temp['Planet_name'], force_a1_list1, color='purple')\n",
    "plt.xticks(rotation=15)\n",
    "plt.ylim([0.0,10e15])\n",
    "x=df_temp['Planet_name']\n",
    "y=force_a1_list1\n",
    "l=len(df_temp.Planet_name)\n",
    "for i in range(l):\n",
    "    value_txt=y[i]\n",
    "    plt.annotate(f'{value_txt/100000000000:.1f}', (x[i+1], y[i]), textcoords=\"offset points\", xytext=(0,10), ha='left',rotation=30,weight='bold')\n",
    "plt.savefig(base_dir+'PurterbingForce_b.jpg')\n",
    "plt.show()"
   ]
  },
  {
   "cell_type": "markdown",
   "metadata": {},
   "source": [
    "# **Writing results onto a Text file** #"
   ]
  },
  {
   "cell_type": "code",
   "execution_count": 54,
   "metadata": {},
   "outputs": [
    {
     "name": "stdout",
     "output_type": "stream",
     "text": [
      "\n",
      "Force(due to Sun)= -13086591912627350274048.000 Newton\n",
      "\n",
      "Total Force(due to Other Planets)= 7516174537648876.000 Newton\n",
      "\n",
      "Apisidal Angle (Calculated)= 3.141595751619944 Radian\n",
      "\n",
      "Precession Rate (Newtonian) = 530.63 arcsec/century\n",
      "\n",
      "Precession Rate (GR correction) = 42.97 arcsec/century\n"
     ]
    }
   ],
   "source": [
    "f = open(base_dir+\"Results.txt\",\"w\") # For newly created Text file.\n",
    "f.write(f\"\\nThe Mass of Sun is := {Median_Sun_mass:.4e} Kg\")\n",
    "f.close()\n",
    "\n",
    "f = open(base_dir+\"Results.txt\", \"a\") # For already opened Text file.\n",
    "f.write(f\"\\nForce(due to Sun)= {force_a0:.3f} Newton\")\n",
    "f.write(f\"\\nTotal Force(due to Other Planets)= {force_a1:.3f} Newton\")\n",
    "f.write(f\"\\nApisidal Angle (Calculated)= {apsidal_angle} Radian\")\n",
    "f.write(f\"\\nPrecession Rate (Newtonian) = {Precession_Rate:.2f} arcsec/century\")\n",
    "f.write(f\"\\nPrecession Rate (GR correction) = {myst_Precession_Rate:.2f} arcsec/century\")\n",
    "f.close()\n",
    "print(f\"\\nForce(due to Sun)= {force_a0:.3f} Newton\")\n",
    "print(f\"\\nTotal Force(due to Other Planets)= {force_a1:.3f} Newton\")\n",
    "print(f\"\\nApisidal Angle (Calculated)= {apsidal_angle} Radian\")\n",
    "print(f\"\\nPrecession Rate (Newtonian) = {Precession_Rate:.2f} arcsec/century\")\n",
    "print(f\"\\nPrecession Rate (GR correction) = {myst_Precession_Rate:.2f} arcsec/century\")"
   ]
  },
  {
   "cell_type": "markdown",
   "metadata": {
    "id": "deyLF1FZVUFU"
   },
   "source": [
    "# **Writing the calculated information into an Excel workbook.** #"
   ]
  },
  {
   "cell_type": "code",
   "execution_count": 55,
   "metadata": {
    "colab": {
     "base_uri": "https://localhost:8080/"
    },
    "id": "bnKo66lqN1IF",
    "outputId": "5eb049b9-1cbb-44f1-ab2e-1f5f06361fe2"
   },
   "outputs": [
    {
     "data": {
      "text/html": [
       "<div>\n",
       "<style scoped>\n",
       "    .dataframe tbody tr th:only-of-type {\n",
       "        vertical-align: middle;\n",
       "    }\n",
       "\n",
       "    .dataframe tbody tr th {\n",
       "        vertical-align: top;\n",
       "    }\n",
       "\n",
       "    .dataframe thead th {\n",
       "        text-align: right;\n",
       "    }\n",
       "</style>\n",
       "<table border=\"1\" class=\"dataframe\">\n",
       "  <thead>\n",
       "    <tr style=\"text-align: right;\">\n",
       "      <th></th>\n",
       "      <th>Sl_no.</th>\n",
       "      <th>Planet_name</th>\n",
       "      <th>Planet_mass(in 10^24 Kg)</th>\n",
       "      <th>Orbital_radius(in 10^6 Km)</th>\n",
       "      <th>Time_period(in Earth days)</th>\n",
       "      <th>Li</th>\n",
       "      <th>L*a/(R^2-a^2)</th>\n",
       "      <th>S_a</th>\n",
       "      <th>F_P(Newton)</th>\n",
       "    </tr>\n",
       "  </thead>\n",
       "  <tbody>\n",
       "    <tr>\n",
       "      <th>0</th>\n",
       "      <td>1</td>\n",
       "      <td>Mercury</td>\n",
       "      <td>0.33011</td>\n",
       "      <td>57.9</td>\n",
       "      <td>87.969</td>\n",
       "      <td>...</td>\n",
       "      <td>...</td>\n",
       "      <td>...</td>\n",
       "      <td>...</td>\n",
       "    </tr>\n",
       "    <tr>\n",
       "      <th>1</th>\n",
       "      <td>2</td>\n",
       "      <td>Venus</td>\n",
       "      <td>4.86750</td>\n",
       "      <td>108.2</td>\n",
       "      <td>224.701</td>\n",
       "      <td>7159766039739.375</td>\n",
       "      <td>49.61806</td>\n",
       "      <td>89.436962</td>\n",
       "      <td>3434425137618532.0</td>\n",
       "    </tr>\n",
       "    <tr>\n",
       "      <th>2</th>\n",
       "      <td>3</td>\n",
       "      <td>Earth</td>\n",
       "      <td>5.97000</td>\n",
       "      <td>149.6</td>\n",
       "      <td>365.240</td>\n",
       "      <td>6351303544509.458984</td>\n",
       "      <td>19.326535</td>\n",
       "      <td>26.136638</td>\n",
       "      <td>1337729403970535.75</td>\n",
       "    </tr>\n",
       "    <tr>\n",
       "      <th>3</th>\n",
       "      <td>4</td>\n",
       "      <td>Mars</td>\n",
       "      <td>0.64171</td>\n",
       "      <td>228.0</td>\n",
       "      <td>686.565</td>\n",
       "      <td>447944379524.123535</td>\n",
       "      <td>0.533315</td>\n",
       "      <td>0.606843</td>\n",
       "      <td>36914625210643.242188</td>\n",
       "    </tr>\n",
       "    <tr>\n",
       "      <th>4</th>\n",
       "      <td>5</td>\n",
       "      <td>Jupiter</td>\n",
       "      <td>1898.19000</td>\n",
       "      <td>778.5</td>\n",
       "      <td>4328.900</td>\n",
       "      <td>388062069913429.5</td>\n",
       "      <td>37.27962</td>\n",
       "      <td>37.694336</td>\n",
       "      <td>2580392402932437.0</td>\n",
       "    </tr>\n",
       "    <tr>\n",
       "      <th>5</th>\n",
       "      <td>6</td>\n",
       "      <td>Saturn</td>\n",
       "      <td>568.34000</td>\n",
       "      <td>1432.0</td>\n",
       "      <td>10752.900</td>\n",
       "      <td>63166285165396.507812</td>\n",
       "      <td>1.78644</td>\n",
       "      <td>1.792291</td>\n",
       "      <td>123652447661892.921875</td>\n",
       "    </tr>\n",
       "    <tr>\n",
       "      <th>6</th>\n",
       "      <td>7</td>\n",
       "      <td>Uranus</td>\n",
       "      <td>86.81300</td>\n",
       "      <td>2867.0</td>\n",
       "      <td>30667.300</td>\n",
       "      <td>4819224999873.286133</td>\n",
       "      <td>0.033961</td>\n",
       "      <td>0.033988</td>\n",
       "      <td>2350670848576.813477</td>\n",
       "    </tr>\n",
       "    <tr>\n",
       "      <th>7</th>\n",
       "      <td>8</td>\n",
       "      <td>Neptune</td>\n",
       "      <td>102.41300</td>\n",
       "      <td>4515.0</td>\n",
       "      <td>60152.000</td>\n",
       "      <td>3610085312706.594727</td>\n",
       "      <td>0.010255</td>\n",
       "      <td>0.010259</td>\n",
       "      <td>709849406257.464722</td>\n",
       "    </tr>\n",
       "  </tbody>\n",
       "</table>\n",
       "</div>"
      ],
      "text/plain": [
       "   Sl_no. Planet_name  Planet_mass(in 10^24 Kg)  Orbital_radius(in 10^6 Km)  \\\n",
       "0       1     Mercury                   0.33011                        57.9   \n",
       "1       2       Venus                   4.86750                       108.2   \n",
       "2       3       Earth                   5.97000                       149.6   \n",
       "3       4        Mars                   0.64171                       228.0   \n",
       "4       5     Jupiter                1898.19000                       778.5   \n",
       "5       6      Saturn                 568.34000                      1432.0   \n",
       "6       7      Uranus                  86.81300                      2867.0   \n",
       "7       8     Neptune                 102.41300                      4515.0   \n",
       "\n",
       "   Time_period(in Earth days)                     Li L*a/(R^2-a^2)        S_a  \\\n",
       "0                      87.969                    ...           ...        ...   \n",
       "1                     224.701      7159766039739.375      49.61806  89.436962   \n",
       "2                     365.240   6351303544509.458984     19.326535  26.136638   \n",
       "3                     686.565    447944379524.123535      0.533315   0.606843   \n",
       "4                    4328.900      388062069913429.5      37.27962  37.694336   \n",
       "5                   10752.900  63166285165396.507812       1.78644   1.792291   \n",
       "6                   30667.300   4819224999873.286133      0.033961   0.033988   \n",
       "7                   60152.000   3610085312706.594727      0.010255   0.010259   \n",
       "\n",
       "              F_P(Newton)  \n",
       "0                     ...  \n",
       "1      3434425137618532.0  \n",
       "2     1337729403970535.75  \n",
       "3   36914625210643.242188  \n",
       "4      2580392402932437.0  \n",
       "5  123652447661892.921875  \n",
       "6    2350670848576.813477  \n",
       "7     709849406257.464722  "
      ]
     },
     "metadata": {},
     "output_type": "display_data"
    },
    {
     "data": {
      "text/html": [
       "<div>\n",
       "<style scoped>\n",
       "    .dataframe tbody tr th:only-of-type {\n",
       "        vertical-align: middle;\n",
       "    }\n",
       "\n",
       "    .dataframe tbody tr th {\n",
       "        vertical-align: top;\n",
       "    }\n",
       "\n",
       "    .dataframe thead th {\n",
       "        text-align: right;\n",
       "    }\n",
       "</style>\n",
       "<table border=\"1\" class=\"dataframe\">\n",
       "  <thead>\n",
       "    <tr style=\"text-align: right;\">\n",
       "      <th></th>\n",
       "      <th>Force(due to Sun)</th>\n",
       "      <th>Total Force(due to OtherPlanets)</th>\n",
       "      <th>Apsidal Angle</th>\n",
       "      <th>Precession Rate(Newtonian)</th>\n",
       "      <th>Precession Rate(GR correction)</th>\n",
       "    </tr>\n",
       "  </thead>\n",
       "  <tbody>\n",
       "    <tr>\n",
       "      <th>0</th>\n",
       "      <td>[-1.309e+22, Newton]</td>\n",
       "      <td>[7.516e+15, Newton]</td>\n",
       "      <td>[3.14160, Radian]</td>\n",
       "      <td>[530.6, arcsec/century]</td>\n",
       "      <td>[42.97 arcsec/century]</td>\n",
       "    </tr>\n",
       "  </tbody>\n",
       "</table>\n",
       "</div>"
      ],
      "text/plain": [
       "      Force(due to Sun) Total Force(due to OtherPlanets)      Apsidal Angle  \\\n",
       "0  [-1.309e+22, Newton]              [7.516e+15, Newton]  [3.14160, Radian]   \n",
       "\n",
       "  Precession Rate(Newtonian) Precession Rate(GR correction)  \n",
       "0    [530.6, arcsec/century]         [42.97 arcsec/century]  "
      ]
     },
     "metadata": {},
     "output_type": "display_data"
    },
    {
     "name": "stdout",
     "output_type": "stream",
     "text": [
      "\n",
      "You have successfully uploaded the information in the Excel file.\n",
      "\n",
      "Please Do Check....\n",
      "\n",
      "Thank You....\n"
     ]
    }
   ],
   "source": [
    "with pd.ExcelWriter(base_dir+'Force_Calculation.xlsx') as writer:   # Opening new workbook.\n",
    "            df2.to_excel(writer,index=False) # Modified df2.\n",
    "display(df2)\n",
    "\n",
    "with pd.ExcelWriter(base_dir+'Results.xlsx') as writer:   # Opening new workbook.\n",
    "#            df2.to_excel(writer,index=False) # Modified df2.\n",
    "#            df2.to_excel(writer,sheet_name=\"Perturbing_Force_Planet_Data\",index=False) # Modified df2.\n",
    "            force_precession_list=[{'Force(due to Sun)':['{:.3e}'.format(force_a0),'Newton'],\\\n",
    "                                'Total Force(due to OtherPlanets)':[\"{:.3e}\".format(force_a1),\"Newton\"],\\\n",
    "                                'Apsidal Angle':[\"{:.5f}\".format(apsidal_angle),\"Radian\"],\\\n",
    "                                'Precession Rate(Newtonian)':[\"{:.1f}\".format(Precession_Rate),\"arcsec/century\"],\\\n",
    "                                'Precession Rate(GR correction)':[f\"{myst_Precession_Rate:.2f} arcsec/century\"]}]\n",
    "            df3=pd.DataFrame(force_precession_list)\n",
    "            df3.to_excel(writer,sheet_name=\"Results\", index=False)\n",
    "display(df3)\n",
    "\n",
    "print(\"\\nYou have successfully uploaded the information in the Excel file.\\n\\nPlease Do Check....\\n\\nThank You....\")"
   ]
  },
  {
   "cell_type": "code",
   "execution_count": null,
   "metadata": {},
   "outputs": [],
   "source": []
  },
  {
   "cell_type": "code",
   "execution_count": null,
   "metadata": {},
   "outputs": [],
   "source": []
  }
 ],
 "metadata": {
  "colab": {
   "provenance": []
  },
  "kernelspec": {
   "display_name": "Python 3 (ipykernel)",
   "language": "python",
   "name": "python3"
  },
  "language_info": {
   "codemirror_mode": {
    "name": "ipython",
    "version": 3
   },
   "file_extension": ".py",
   "mimetype": "text/x-python",
   "name": "python",
   "nbconvert_exporter": "python",
   "pygments_lexer": "ipython3",
   "version": "3.11.7"
  }
 },
 "nbformat": 4,
 "nbformat_minor": 4
}
